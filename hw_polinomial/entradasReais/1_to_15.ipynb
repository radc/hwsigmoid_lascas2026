{
 "cells": [
  {
   "cell_type": "code",
   "execution_count": 3,
   "id": "f5781664",
   "metadata": {},
   "outputs": [
    {
     "name": "stdout",
     "output_type": "stream",
     "text": [
      "Transformação concluída com sucesso!\n"
     ]
    }
   ],
   "source": [
    "def transformar_arquivo(arquivo_entrada, arquivo_saida):\n",
    "    \"\"\"\n",
    "    Lê um arquivo com pares de entrada e saída, e cria um novo\n",
    "    arquivo agrupando 15 pares por linha.\n",
    "\n",
    "    Args:\n",
    "        arquivo_entrada (str): O caminho para o arquivo de entrada.\n",
    "        arquivo_saida (str): O caminho para o arquivo de saída.\n",
    "    \"\"\"\n",
    "    entradas = []\n",
    "    saidas = []\n",
    "    \n",
    "    with open(arquivo_entrada, 'r') as f_in:\n",
    "        for linha in f_in:\n",
    "            valores = linha.strip().split()\n",
    "            if len(valores) == 2:\n",
    "                entradas.append(valores[0])\n",
    "                saidas.append(valores[1])\n",
    "                \n",
    "    with open(arquivo_saida, 'w') as f_out:\n",
    "        num_pares = len(entradas)\n",
    "        for i in range(0, num_pares, 15):\n",
    "            # Agrupa 15 entradas e 15 saídas\n",
    "            batch_entradas = entradas[i:i+15]\n",
    "            batch_saidas = saidas[i:i+15]\n",
    "            \n",
    "            # Se não houver 15 pares completos, o loop para\n",
    "            if len(batch_entradas) == 15 and len(batch_saidas) == 15:\n",
    "                # Junta todas as entradas em uma string e todas as saídas em outra\n",
    "                linha_entradas = ' '.join(batch_entradas)\n",
    "                linha_saidas = ' '.join(batch_saidas)\n",
    "                \n",
    "                # Escreve a nova linha no arquivo de saída\n",
    "                f_out.write(f'{linha_entradas} {linha_saidas}\\n')\n",
    "\n",
    "# Substitua 'seu_arquivo_entrada.txt' pelo nome do seu arquivo de texto\n",
    "# e 'seu_arquivo_saida.txt' pelo nome que você quer dar ao novo arquivo\n",
    "transformar_arquivo('entradasBin_x15.txt', 'seu_arquivo_saida.txt')\n",
    "print(\"Transformação concluída com sucesso!\")"
   ]
  }
 ],
 "metadata": {
  "kernelspec": {
   "display_name": "base",
   "language": "python",
   "name": "python3"
  },
  "language_info": {
   "codemirror_mode": {
    "name": "ipython",
    "version": 3
   },
   "file_extension": ".py",
   "mimetype": "text/x-python",
   "name": "python",
   "nbconvert_exporter": "python",
   "pygments_lexer": "ipython3",
   "version": "3.12.9"
  }
 },
 "nbformat": 4,
 "nbformat_minor": 5
}
